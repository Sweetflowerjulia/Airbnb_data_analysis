{
 "cells": [
  {
   "cell_type": "markdown",
   "metadata": {},
   "source": [
    "# Airbnb Data Analysis"
   ]
  },
  {
   "cell_type": "markdown",
   "metadata": {},
   "source": [
    "### 1-1 The distribution of the hosts based on annual income from Airbnb in Berlin"
   ]
  },
  {
   "cell_type": "markdown",
   "metadata": {},
   "source": [
    "### Assumptions\n",
    "Annual imcome could be estimated by using booked price and number of bookings. However, no booking data was provided by Airbnb. Therefore, we can approximitely calculate the income with average price and number of bookings. The number of bookings could be estimated by 'minimum nights per booking' and 'number of reviews per month'.\n",
    "##### Annual Income = average_price x minimum_nights x number_of_reviews_per_month x12\n",
    "* average_price: calculate average price throughout the whole year from calendar.csv datasets.\n",
    "* minimum_nights: Assume all the guests stayed at least minimum_nights, data from listings.csv.\n",
    "* number_of_reviews_per_month: Assume most of the guests wrote a review for the booking. \n",
    "\n",
    "##### Deal with exceptions:\n",
    "* average_price: Not all the listings in the calendar datasets. Used 'price' columns in listings.csv, if could not find listings in calendar datasets.\n",
    "* minimum_nights: Many data points have large value of minimum_nights, which might not be set properly by the host. Based on the distribution of minimum_nights values, the value was adjusted to 5 if minimum_nights >5 (see details in the code). \n",
    "\n",
    "##### See detail explainations in the validation section\n",
    "\n",
    "##### Limitation\n",
    "* Annual income could be under extimated for some listings since the minimum_nights might be shorter than actual stay; the review records would be smaller than actual booking because not all the user leave their reviews after booking.\n",
    "\n",
    "* The average price might not correctly represent average income for annual booking because some of the listings have high variance in the price throughout the year.\n",
    "\n",
    "* Data from some listings are outliers of the distributions, it might not the correct actual host data."
   ]
  },
  {
   "cell_type": "markdown",
   "metadata": {},
   "source": [
    "### Visualisation "
   ]
  },
  {
   "cell_type": "markdown",
   "metadata": {},
   "source": [
    "<img src=\"img/a1.png\" width=800, height=600>"
   ]
  },
  {
   "cell_type": "markdown",
   "metadata": {},
   "source": [
    "<img src=\"img/a2.png\" width=600, height=400>"
   ]
  },
  {
   "cell_type": "markdown",
   "metadata": {},
   "source": [
    "<img src=\"img/a3.png\" width=600, height=400>"
   ]
  },
  {
   "cell_type": "markdown",
   "metadata": {},
   "source": [
    "##### Zoom in: filtered out outliers"
   ]
  },
  {
   "cell_type": "markdown",
   "metadata": {},
   "source": [
    "<img src=\"img/a4.png\" width=600, height=400>"
   ]
  },
  {
   "cell_type": "markdown",
   "metadata": {},
   "source": [
    "<img src=\"img/a5.png\" width=600, height=400>"
   ]
  },
  {
   "cell_type": "markdown",
   "metadata": {},
   "source": [
    "<img src=\"img/a6.png\" width=600, height=400>"
   ]
  },
  {
   "cell_type": "markdown",
   "metadata": {},
   "source": [
    "<img src=\"img/a7.png\" width=600, height=400>"
   ]
  },
  {
   "cell_type": "markdown",
   "metadata": {},
   "source": [
    "### Validate assumptions"
   ]
  },
  {
   "cell_type": "code",
   "execution_count": 8,
   "metadata": {},
   "outputs": [],
   "source": [
    "import numpy as np\n",
    "import pandas as pd\n",
    "\n",
    "# read datasets\n",
    "berlin = 'Berlin Airbnb Dataset'\n",
    "calendar = pd.read_csv(berlin+\"/calendar.csv\")\n",
    "listings = pd.read_csv(berlin+\"/listings.csv\")\n",
    "reviews = pd.read_csv(berlin+\"/reviews.csv\")"
   ]
  },
  {
   "cell_type": "code",
   "execution_count": 9,
   "metadata": {
    "scrolled": true
   },
   "outputs": [
    {
     "name": "stdout",
     "output_type": "stream",
     "text": [
      "calendar dataset date range: 2018-11-07 2019-11-08\n",
      "review dataset date range: 2009-06-20 2018-11-07\n"
     ]
    }
   ],
   "source": [
    "print('calendar dataset date range:', calendar.date.min(), calendar.date.max())\n",
    "print('review dataset date range:', reviews.date.min(), reviews.date.max())"
   ]
  },
  {
   "cell_type": "markdown",
   "metadata": {},
   "source": [
    "### Explore prices in the calender dataset"
   ]
  },
  {
   "cell_type": "code",
   "execution_count": 10,
   "metadata": {},
   "outputs": [
    {
     "name": "stderr",
     "output_type": "stream",
     "text": [
      "/anaconda3/lib/python3.6/site-packages/ipykernel_launcher.py:4: SettingWithCopyWarning: \n",
      "A value is trying to be set on a copy of a slice from a DataFrame.\n",
      "Try using .loc[row_indexer,col_indexer] = value instead\n",
      "\n",
      "See the caveats in the documentation: http://pandas.pydata.org/pandas-docs/stable/indexing.html#indexing-view-versus-copy\n",
      "  after removing the cwd from sys.path.\n"
     ]
    },
    {
     "data": {
      "text/html": [
       "<div>\n",
       "<style scoped>\n",
       "    .dataframe tbody tr th:only-of-type {\n",
       "        vertical-align: middle;\n",
       "    }\n",
       "\n",
       "    .dataframe tbody tr th {\n",
       "        vertical-align: top;\n",
       "    }\n",
       "\n",
       "    .dataframe thead th {\n",
       "        text-align: right;\n",
       "    }\n",
       "</style>\n",
       "<table border=\"1\" class=\"dataframe\">\n",
       "  <thead>\n",
       "    <tr style=\"text-align: right;\">\n",
       "      <th></th>\n",
       "      <th>listing_id</th>\n",
       "      <th>mean</th>\n",
       "      <th>max</th>\n",
       "      <th>min</th>\n",
       "      <th>std</th>\n",
       "    </tr>\n",
       "  </thead>\n",
       "  <tbody>\n",
       "    <tr>\n",
       "      <th>0</th>\n",
       "      <td>2015</td>\n",
       "      <td>81.900709</td>\n",
       "      <td>188.0</td>\n",
       "      <td>76.0</td>\n",
       "      <td>24.344933</td>\n",
       "    </tr>\n",
       "    <tr>\n",
       "      <th>1</th>\n",
       "      <td>3176</td>\n",
       "      <td>90.000000</td>\n",
       "      <td>90.0</td>\n",
       "      <td>90.0</td>\n",
       "      <td>0.000000</td>\n",
       "    </tr>\n",
       "    <tr>\n",
       "      <th>2</th>\n",
       "      <td>3309</td>\n",
       "      <td>27.131313</td>\n",
       "      <td>30.0</td>\n",
       "      <td>26.0</td>\n",
       "      <td>1.804535</td>\n",
       "    </tr>\n",
       "    <tr>\n",
       "      <th>3</th>\n",
       "      <td>7071</td>\n",
       "      <td>44.384615</td>\n",
       "      <td>45.0</td>\n",
       "      <td>44.0</td>\n",
       "      <td>0.496139</td>\n",
       "    </tr>\n",
       "    <tr>\n",
       "      <th>4</th>\n",
       "      <td>9991</td>\n",
       "      <td>180.000000</td>\n",
       "      <td>180.0</td>\n",
       "      <td>180.0</td>\n",
       "      <td>0.000000</td>\n",
       "    </tr>\n",
       "  </tbody>\n",
       "</table>\n",
       "</div>"
      ],
      "text/plain": [
       "   listing_id        mean    max    min        std\n",
       "0        2015   81.900709  188.0   76.0  24.344933\n",
       "1        3176   90.000000   90.0   90.0   0.000000\n",
       "2        3309   27.131313   30.0   26.0   1.804535\n",
       "3        7071   44.384615   45.0   44.0   0.496139\n",
       "4        9991  180.000000  180.0  180.0   0.000000"
      ]
     },
     "execution_count": 10,
     "metadata": {},
     "output_type": "execute_result"
    }
   ],
   "source": [
    "import re\n",
    "\n",
    "prices = calendar.dropna() #filter out null values\n",
    "prices['price_numeric'] = prices.price.apply(lambda x: float(re.sub('[$,]', '', x))) # str -> numeric\n",
    "price_by_listing = prices.groupby('listing_id').agg({'price_numeric':['mean', 'max', 'min', 'std']})['price_numeric'].reset_index()\n",
    "price_by_listing.head()"
   ]
  },
  {
   "cell_type": "code",
   "execution_count": 11,
   "metadata": {},
   "outputs": [],
   "source": [
    "import seaborn as sns\n",
    "import matplotlib.pyplot as plt\n",
    "%matplotlib inline"
   ]
  },
  {
   "cell_type": "markdown",
   "metadata": {},
   "source": [
    "#### Check the  standard deviation of the price for each listings, and remove the average price if it shows highly spread standard deviation "
   ]
  },
  {
   "cell_type": "code",
   "execution_count": 12,
   "metadata": {
    "scrolled": true
   },
   "outputs": [
    {
     "data": {
      "image/png": "[encoded data removed]",
      "text/plain": [
       "<Figure size 432x288 with 1 Axes>"
      ]
     },
     "metadata": {},
     "output_type": "display_data"
    }
   ],
   "source": [
    "price_by_listing['std'].fillna(0).hist(bins=100)\n",
    "plt.yscale('log')\n",
    "plt.show()"
   ]
  },
  {
   "cell_type": "code",
   "execution_count": 13,
   "metadata": {},
   "outputs": [
    {
     "name": "stdout",
     "output_type": "stream",
     "text": [
      "count    11551.000000\n",
      "mean        75.168344\n",
      "std        140.735667\n",
      "min          9.000000\n",
      "25%         38.000000\n",
      "50%         55.000000\n",
      "75%         85.000000\n",
      "max       8600.000000\n",
      "Name: mean, dtype: float64\n"
     ]
    },
    {
     "data": {
      "text/html": [
       "<div>\n",
       "<style scoped>\n",
       "    .dataframe tbody tr th:only-of-type {\n",
       "        vertical-align: middle;\n",
       "    }\n",
       "\n",
       "    .dataframe tbody tr th {\n",
       "        vertical-align: top;\n",
       "    }\n",
       "\n",
       "    .dataframe thead th {\n",
       "        text-align: right;\n",
       "    }\n",
       "</style>\n",
       "<table border=\"1\" class=\"dataframe\">\n",
       "  <thead>\n",
       "    <tr style=\"text-align: right;\">\n",
       "      <th></th>\n",
       "      <th>listing_id</th>\n",
       "      <th>mean</th>\n",
       "    </tr>\n",
       "  </thead>\n",
       "  <tbody>\n",
       "    <tr>\n",
       "      <th>0</th>\n",
       "      <td>2015</td>\n",
       "      <td>81.900709</td>\n",
       "    </tr>\n",
       "    <tr>\n",
       "      <th>1</th>\n",
       "      <td>3176</td>\n",
       "      <td>90.000000</td>\n",
       "    </tr>\n",
       "    <tr>\n",
       "      <th>2</th>\n",
       "      <td>3309</td>\n",
       "      <td>27.131313</td>\n",
       "    </tr>\n",
       "    <tr>\n",
       "      <th>3</th>\n",
       "      <td>7071</td>\n",
       "      <td>44.384615</td>\n",
       "    </tr>\n",
       "    <tr>\n",
       "      <th>4</th>\n",
       "      <td>9991</td>\n",
       "      <td>180.000000</td>\n",
       "    </tr>\n",
       "  </tbody>\n",
       "</table>\n",
       "</div>"
      ],
      "text/plain": [
       "   listing_id        mean\n",
       "0        2015   81.900709\n",
       "1        3176   90.000000\n",
       "2        3309   27.131313\n",
       "3        7071   44.384615\n",
       "4        9991  180.000000"
      ]
     },
     "execution_count": 13,
     "metadata": {},
     "output_type": "execute_result"
    }
   ],
   "source": [
    "avg_price = price_by_listing[price_by_listing['std']<200][['listing_id','mean']]\n",
    "print(avg_price['mean'].describe())\n",
    "avg_price.head()"
   ]
  },
  {
   "cell_type": "markdown",
   "metadata": {},
   "source": [
    "### Explore reviews dataset"
   ]
  },
  {
   "cell_type": "code",
   "execution_count": 14,
   "metadata": {},
   "outputs": [
    {
     "name": "stdout",
     "output_type": "stream",
     "text": [
      "13646\n"
     ]
    }
   ],
   "source": [
    "from datetime import datetime\n",
    "reviews['date'] = pd.to_datetime(reviews.date)\n",
    "reviews_filtered = reviews[reviews['date'] > pd.to_datetime('2017-11-07')]\n",
    "n_reviews = reviews_filtered.groupby(['listing_id']).size()\n",
    "print(n_reviews.shape[0])"
   ]
  },
  {
   "cell_type": "markdown",
   "metadata": {},
   "source": [
    "### Explore listings dataset"
   ]
  },
  {
   "cell_type": "code",
   "execution_count": 15,
   "metadata": {},
   "outputs": [
    {
     "data": {
      "text/plain": [
       "Index(['id', 'listing_url', 'scrape_id', 'last_scraped', 'name', 'summary',\n",
       "       'space', 'description', 'experiences_offered', 'neighborhood_overview',\n",
       "       'notes', 'transit', 'access', 'interaction', 'house_rules',\n",
       "       'thumbnail_url', 'medium_url', 'picture_url', 'xl_picture_url',\n",
       "       'host_id', 'host_url', 'host_name', 'host_since', 'host_location',\n",
       "       'host_about', 'host_response_time', 'host_response_rate',\n",
       "       'host_acceptance_rate', 'host_is_superhost', 'host_thumbnail_url',\n",
       "       'host_picture_url', 'host_neighbourhood', 'host_listings_count',\n",
       "       'host_total_listings_count', 'host_verifications',\n",
       "       'host_has_profile_pic', 'host_identity_verified', 'street',\n",
       "       'neighbourhood', 'neighbourhood_cleansed',\n",
       "       'neighbourhood_group_cleansed', 'city', 'state', 'zipcode', 'market',\n",
       "       'smart_location', 'country_code', 'country', 'latitude', 'longitude',\n",
       "       'is_location_exact', 'property_type', 'room_type', 'accommodates',\n",
       "       'bathrooms', 'bedrooms', 'beds', 'bed_type', 'amenities', 'square_feet',\n",
       "       'price', 'weekly_price', 'monthly_price', 'security_deposit',\n",
       "       'cleaning_fee', 'guests_included', 'extra_people', 'minimum_nights',\n",
       "       'maximum_nights', 'calendar_updated', 'has_availability',\n",
       "       'availability_30', 'availability_60', 'availability_90',\n",
       "       'availability_365', 'calendar_last_scraped', 'number_of_reviews',\n",
       "       'first_review', 'last_review', 'review_scores_rating',\n",
       "       'review_scores_accuracy', 'review_scores_cleanliness',\n",
       "       'review_scores_checkin', 'review_scores_communication',\n",
       "       'review_scores_location', 'review_scores_value', 'requires_license',\n",
       "       'license', 'jurisdiction_names', 'instant_bookable',\n",
       "       'is_business_travel_ready', 'cancellation_policy',\n",
       "       'require_guest_profile_picture', 'require_guest_phone_verification',\n",
       "       'calculated_host_listings_count', 'reviews_per_month'],\n",
       "      dtype='object')"
      ]
     },
     "execution_count": 15,
     "metadata": {},
     "output_type": "execute_result"
    }
   ],
   "source": [
    "listings.columns"
   ]
  },
  {
   "cell_type": "code",
   "execution_count": 16,
   "metadata": {
    "scrolled": true
   },
   "outputs": [
    {
     "name": "stdout",
     "output_type": "stream",
     "text": [
      "(22552, 10)\n",
      "id                      0\n",
      "host_id                 0\n",
      "latitude                0\n",
      "longitude               0\n",
      "property_type           0\n",
      "room_type               0\n",
      "accommodates            0\n",
      "minimum_nights          0\n",
      "reviews_per_month    3914\n",
      "price                   0\n",
      "dtype: int64\n"
     ]
    },
    {
     "name": "stderr",
     "output_type": "stream",
     "text": [
      "/anaconda3/lib/python3.6/site-packages/ipykernel_launcher.py:2: SettingWithCopyWarning: \n",
      "A value is trying to be set on a copy of a slice from a DataFrame.\n",
      "Try using .loc[row_indexer,col_indexer] = value instead\n",
      "\n",
      "See the caveats in the documentation: http://pandas.pydata.org/pandas-docs/stable/indexing.html#indexing-view-versus-copy\n",
      "  \n"
     ]
    },
    {
     "data": {
      "text/html": [
       "<div>\n",
       "<style scoped>\n",
       "    .dataframe tbody tr th:only-of-type {\n",
       "        vertical-align: middle;\n",
       "    }\n",
       "\n",
       "    .dataframe tbody tr th {\n",
       "        vertical-align: top;\n",
       "    }\n",
       "\n",
       "    .dataframe thead th {\n",
       "        text-align: right;\n",
       "    }\n",
       "</style>\n",
       "<table border=\"1\" class=\"dataframe\">\n",
       "  <thead>\n",
       "    <tr style=\"text-align: right;\">\n",
       "      <th></th>\n",
       "      <th>id</th>\n",
       "      <th>host_id</th>\n",
       "      <th>latitude</th>\n",
       "      <th>longitude</th>\n",
       "      <th>property_type</th>\n",
       "      <th>room_type</th>\n",
       "      <th>accommodates</th>\n",
       "      <th>minimum_nights</th>\n",
       "      <th>reviews_per_month</th>\n",
       "      <th>price</th>\n",
       "    </tr>\n",
       "  </thead>\n",
       "  <tbody>\n",
       "    <tr>\n",
       "      <th>0</th>\n",
       "      <td>2015</td>\n",
       "      <td>2217</td>\n",
       "      <td>52.534537</td>\n",
       "      <td>13.402557</td>\n",
       "      <td>Guesthouse</td>\n",
       "      <td>Entire home/apt</td>\n",
       "      <td>3</td>\n",
       "      <td>4</td>\n",
       "      <td>3.76</td>\n",
       "      <td>60.0</td>\n",
       "    </tr>\n",
       "    <tr>\n",
       "      <th>1</th>\n",
       "      <td>2695</td>\n",
       "      <td>2986</td>\n",
       "      <td>52.548513</td>\n",
       "      <td>13.404553</td>\n",
       "      <td>Apartment</td>\n",
       "      <td>Private room</td>\n",
       "      <td>2</td>\n",
       "      <td>2</td>\n",
       "      <td>1.42</td>\n",
       "      <td>17.0</td>\n",
       "    </tr>\n",
       "    <tr>\n",
       "      <th>2</th>\n",
       "      <td>3176</td>\n",
       "      <td>3718</td>\n",
       "      <td>52.534996</td>\n",
       "      <td>13.417579</td>\n",
       "      <td>Apartment</td>\n",
       "      <td>Entire home/apt</td>\n",
       "      <td>4</td>\n",
       "      <td>62</td>\n",
       "      <td>1.25</td>\n",
       "      <td>90.0</td>\n",
       "    </tr>\n",
       "    <tr>\n",
       "      <th>3</th>\n",
       "      <td>3309</td>\n",
       "      <td>4108</td>\n",
       "      <td>52.498855</td>\n",
       "      <td>13.349065</td>\n",
       "      <td>Apartment</td>\n",
       "      <td>Private room</td>\n",
       "      <td>2</td>\n",
       "      <td>5</td>\n",
       "      <td>0.39</td>\n",
       "      <td>26.0</td>\n",
       "    </tr>\n",
       "    <tr>\n",
       "      <th>4</th>\n",
       "      <td>7071</td>\n",
       "      <td>17391</td>\n",
       "      <td>52.543157</td>\n",
       "      <td>13.415091</td>\n",
       "      <td>Apartment</td>\n",
       "      <td>Private room</td>\n",
       "      <td>2</td>\n",
       "      <td>2</td>\n",
       "      <td>1.75</td>\n",
       "      <td>42.0</td>\n",
       "    </tr>\n",
       "  </tbody>\n",
       "</table>\n",
       "</div>"
      ],
      "text/plain": [
       "     id  host_id   latitude  longitude property_type        room_type  \\\n",
       "0  2015     2217  52.534537  13.402557    Guesthouse  Entire home/apt   \n",
       "1  2695     2986  52.548513  13.404553     Apartment     Private room   \n",
       "2  3176     3718  52.534996  13.417579     Apartment  Entire home/apt   \n",
       "3  3309     4108  52.498855  13.349065     Apartment     Private room   \n",
       "4  7071    17391  52.543157  13.415091     Apartment     Private room   \n",
       "\n",
       "   accommodates  minimum_nights  reviews_per_month  price  \n",
       "0             3               4               3.76   60.0  \n",
       "1             2               2               1.42   17.0  \n",
       "2             4              62               1.25   90.0  \n",
       "3             2               5               0.39   26.0  \n",
       "4             2               2               1.75   42.0  "
      ]
     },
     "execution_count": 16,
     "metadata": {},
     "output_type": "execute_result"
    }
   ],
   "source": [
    "listings_df = listings[['id', 'host_id','latitude', 'longitude','property_type','room_type','accommodates','minimum_nights', 'reviews_per_month', 'price']]\n",
    "listings_df['price'] = listings_df.price.apply(lambda x: float(re.sub('[$,]', '', x))) # str -> numeric\n",
    "print(listings_df.shape)\n",
    "print(listings_df.isna().sum())\n",
    "listings_df.head()"
   ]
  },
  {
   "cell_type": "markdown",
   "metadata": {},
   "source": [
    "#### If average price does not found, use 'price' columns in listings."
   ]
  },
  {
   "cell_type": "code",
   "execution_count": 17,
   "metadata": {},
   "outputs": [
    {
     "data": {
      "text/html": [
       "<div>\n",
       "<style scoped>\n",
       "    .dataframe tbody tr th:only-of-type {\n",
       "        vertical-align: middle;\n",
       "    }\n",
       "\n",
       "    .dataframe tbody tr th {\n",
       "        vertical-align: top;\n",
       "    }\n",
       "\n",
       "    .dataframe thead th {\n",
       "        text-align: right;\n",
       "    }\n",
       "</style>\n",
       "<table border=\"1\" class=\"dataframe\">\n",
       "  <thead>\n",
       "    <tr style=\"text-align: right;\">\n",
       "      <th></th>\n",
       "      <th>id</th>\n",
       "      <th>host_id</th>\n",
       "      <th>latitude</th>\n",
       "      <th>longitude</th>\n",
       "      <th>property_type</th>\n",
       "      <th>room_type</th>\n",
       "      <th>accommodates</th>\n",
       "      <th>minimum_nights</th>\n",
       "      <th>reviews_per_month</th>\n",
       "      <th>price</th>\n",
       "      <th>listing_id</th>\n",
       "      <th>avg_price</th>\n",
       "    </tr>\n",
       "  </thead>\n",
       "  <tbody>\n",
       "    <tr>\n",
       "      <th>0</th>\n",
       "      <td>2015</td>\n",
       "      <td>2217</td>\n",
       "      <td>52.534537</td>\n",
       "      <td>13.402557</td>\n",
       "      <td>Guesthouse</td>\n",
       "      <td>Entire home/apt</td>\n",
       "      <td>3</td>\n",
       "      <td>4</td>\n",
       "      <td>3.76</td>\n",
       "      <td>60.0</td>\n",
       "      <td>2015</td>\n",
       "      <td>81.900709</td>\n",
       "    </tr>\n",
       "    <tr>\n",
       "      <th>1</th>\n",
       "      <td>2695</td>\n",
       "      <td>2986</td>\n",
       "      <td>52.548513</td>\n",
       "      <td>13.404553</td>\n",
       "      <td>Apartment</td>\n",
       "      <td>Private room</td>\n",
       "      <td>2</td>\n",
       "      <td>2</td>\n",
       "      <td>1.42</td>\n",
       "      <td>17.0</td>\n",
       "      <td>2695</td>\n",
       "      <td>17.000000</td>\n",
       "    </tr>\n",
       "    <tr>\n",
       "      <th>2</th>\n",
       "      <td>3176</td>\n",
       "      <td>3718</td>\n",
       "      <td>52.534996</td>\n",
       "      <td>13.417579</td>\n",
       "      <td>Apartment</td>\n",
       "      <td>Entire home/apt</td>\n",
       "      <td>4</td>\n",
       "      <td>62</td>\n",
       "      <td>1.25</td>\n",
       "      <td>90.0</td>\n",
       "      <td>3176</td>\n",
       "      <td>90.000000</td>\n",
       "    </tr>\n",
       "    <tr>\n",
       "      <th>3</th>\n",
       "      <td>3309</td>\n",
       "      <td>4108</td>\n",
       "      <td>52.498855</td>\n",
       "      <td>13.349065</td>\n",
       "      <td>Apartment</td>\n",
       "      <td>Private room</td>\n",
       "      <td>2</td>\n",
       "      <td>5</td>\n",
       "      <td>0.39</td>\n",
       "      <td>26.0</td>\n",
       "      <td>3309</td>\n",
       "      <td>27.131313</td>\n",
       "    </tr>\n",
       "    <tr>\n",
       "      <th>4</th>\n",
       "      <td>7071</td>\n",
       "      <td>17391</td>\n",
       "      <td>52.543157</td>\n",
       "      <td>13.415091</td>\n",
       "      <td>Apartment</td>\n",
       "      <td>Private room</td>\n",
       "      <td>2</td>\n",
       "      <td>2</td>\n",
       "      <td>1.75</td>\n",
       "      <td>42.0</td>\n",
       "      <td>7071</td>\n",
       "      <td>44.384615</td>\n",
       "    </tr>\n",
       "  </tbody>\n",
       "</table>\n",
       "</div>"
      ],
      "text/plain": [
       "     id  host_id   latitude  longitude property_type        room_type  \\\n",
       "0  2015     2217  52.534537  13.402557    Guesthouse  Entire home/apt   \n",
       "1  2695     2986  52.548513  13.404553     Apartment     Private room   \n",
       "2  3176     3718  52.534996  13.417579     Apartment  Entire home/apt   \n",
       "3  3309     4108  52.498855  13.349065     Apartment     Private room   \n",
       "4  7071    17391  52.543157  13.415091     Apartment     Private room   \n",
       "\n",
       "   accommodates  minimum_nights  reviews_per_month  price  listing_id  \\\n",
       "0             3               4               3.76   60.0        2015   \n",
       "1             2               2               1.42   17.0        2695   \n",
       "2             4              62               1.25   90.0        3176   \n",
       "3             2               5               0.39   26.0        3309   \n",
       "4             2               2               1.75   42.0        7071   \n",
       "\n",
       "   avg_price  \n",
       "0  81.900709  \n",
       "1  17.000000  \n",
       "2  90.000000  \n",
       "3  27.131313  \n",
       "4  44.384615  "
      ]
     },
     "execution_count": 17,
     "metadata": {},
     "output_type": "execute_result"
    }
   ],
   "source": [
    "NaN_avg_price = pd.merge(listings_df, avg_price, how='left', left_on='id', right_on='listing_id')['mean'].isna()\n",
    "price = listings_df[NaN_avg_price][['id','price']].rename(columns={'id':'listing_id', 'price':'mean'})\n",
    "all_price = pd.concat([avg_price, price]).rename(columns={'mean':'avg_price'})\n",
    "p1_df = pd.merge(listings_df, all_price, how='left', left_on='id', right_on='listing_id')\n",
    "p1_df.head()"
   ]
  },
  {
   "cell_type": "code",
   "execution_count": 18,
   "metadata": {},
   "outputs": [
    {
     "data": {
      "image/png": "[encoded data removed]",
      "text/plain": [
       "<Figure size 432x288 with 1 Axes>"
      ]
     },
     "metadata": {},
     "output_type": "display_data"
    },
    {
     "name": "stdout",
     "output_type": "stream",
     "text": [
      "count    22552.000000\n",
      "mean         7.157059\n",
      "std         40.665073\n",
      "min          1.000000\n",
      "25%          2.000000\n",
      "50%          2.000000\n",
      "75%          4.000000\n",
      "max       5000.000000\n",
      "Name: minimum_nights, dtype: float64\n"
     ]
    }
   ],
   "source": [
    "p1_df.minimum_nights.hist(bins=100)\n",
    "plt.title('minimum_nights distribution')\n",
    "plt.xlabel('minimum nights')\n",
    "plt.yscale('log')\n",
    "plt.show()\n",
    "print(p1_df.minimum_nights.describe())"
   ]
  },
  {
   "cell_type": "markdown",
   "metadata": {},
   "source": [
    "#### Minimun_nights values contain some outliers. Found out 5 is the approximate average value based on the distribution."
   ]
  },
  {
   "cell_type": "code",
   "execution_count": 19,
   "metadata": {},
   "outputs": [
    {
     "name": "stdout",
     "output_type": "stream",
     "text": [
      "count    22220.000000\n",
      "mean         5.021962\n",
      "std          9.603479\n",
      "min          1.000000\n",
      "25%          2.000000\n",
      "50%          2.000000\n",
      "75%          4.000000\n",
      "max         89.000000\n",
      "Name: minimum_nights, dtype: float64\n"
     ]
    },
    {
     "data": {
      "image/png": "[encoded data removed]",
      "text/plain": [
       "<Figure size 432x288 with 1 Axes>"
      ]
     },
     "metadata": {},
     "output_type": "display_data"
    }
   ],
   "source": [
    "bplot = sns.boxplot(x=p1_df[p1_df['minimum_nights']<90].minimum_nights, width=0.5, palette=\"colorblind\")\n",
    "bplot.set_title('minimum nights distribution after filtered <90')\n",
    "print(p1_df[p1_df['minimum_nights']<90].minimum_nights.describe())"
   ]
  },
  {
   "cell_type": "code",
   "execution_count": 20,
   "metadata": {},
   "outputs": [],
   "source": [
    "p1_df['min_nights_new'] = p1_df['minimum_nights'].apply(lambda x: x if x<5 else 5)"
   ]
  },
  {
   "cell_type": "markdown",
   "metadata": {},
   "source": [
    "#### Annual income of listings"
   ]
  },
  {
   "cell_type": "code",
   "execution_count": 21,
   "metadata": {
    "scrolled": true
   },
   "outputs": [
    {
     "data": {
      "text/html": [
       "<div>\n",
       "<style scoped>\n",
       "    .dataframe tbody tr th:only-of-type {\n",
       "        vertical-align: middle;\n",
       "    }\n",
       "\n",
       "    .dataframe tbody tr th {\n",
       "        vertical-align: top;\n",
       "    }\n",
       "\n",
       "    .dataframe thead th {\n",
       "        text-align: right;\n",
       "    }\n",
       "</style>\n",
       "<table border=\"1\" class=\"dataframe\">\n",
       "  <thead>\n",
       "    <tr style=\"text-align: right;\">\n",
       "      <th></th>\n",
       "      <th>id</th>\n",
       "      <th>host_id</th>\n",
       "      <th>latitude</th>\n",
       "      <th>longitude</th>\n",
       "      <th>property_type</th>\n",
       "      <th>room_type</th>\n",
       "      <th>accommodates</th>\n",
       "      <th>reviews_per_month</th>\n",
       "      <th>avg_price</th>\n",
       "      <th>min_nights_new</th>\n",
       "      <th>annual_income</th>\n",
       "    </tr>\n",
       "  </thead>\n",
       "  <tbody>\n",
       "    <tr>\n",
       "      <th>0</th>\n",
       "      <td>2015</td>\n",
       "      <td>2217</td>\n",
       "      <td>52.534537</td>\n",
       "      <td>13.402557</td>\n",
       "      <td>Guesthouse</td>\n",
       "      <td>Entire home/apt</td>\n",
       "      <td>3</td>\n",
       "      <td>3.76</td>\n",
       "      <td>81.900709</td>\n",
       "      <td>4</td>\n",
       "      <td>14781.440000</td>\n",
       "    </tr>\n",
       "    <tr>\n",
       "      <th>1</th>\n",
       "      <td>2695</td>\n",
       "      <td>2986</td>\n",
       "      <td>52.548513</td>\n",
       "      <td>13.404553</td>\n",
       "      <td>Apartment</td>\n",
       "      <td>Private room</td>\n",
       "      <td>2</td>\n",
       "      <td>1.42</td>\n",
       "      <td>17.000000</td>\n",
       "      <td>2</td>\n",
       "      <td>579.360000</td>\n",
       "    </tr>\n",
       "    <tr>\n",
       "      <th>2</th>\n",
       "      <td>3176</td>\n",
       "      <td>3718</td>\n",
       "      <td>52.534996</td>\n",
       "      <td>13.417579</td>\n",
       "      <td>Apartment</td>\n",
       "      <td>Entire home/apt</td>\n",
       "      <td>4</td>\n",
       "      <td>1.25</td>\n",
       "      <td>90.000000</td>\n",
       "      <td>5</td>\n",
       "      <td>6750.000000</td>\n",
       "    </tr>\n",
       "    <tr>\n",
       "      <th>3</th>\n",
       "      <td>3309</td>\n",
       "      <td>4108</td>\n",
       "      <td>52.498855</td>\n",
       "      <td>13.349065</td>\n",
       "      <td>Apartment</td>\n",
       "      <td>Private room</td>\n",
       "      <td>2</td>\n",
       "      <td>0.39</td>\n",
       "      <td>27.131313</td>\n",
       "      <td>5</td>\n",
       "      <td>634.872727</td>\n",
       "    </tr>\n",
       "    <tr>\n",
       "      <th>4</th>\n",
       "      <td>7071</td>\n",
       "      <td>17391</td>\n",
       "      <td>52.543157</td>\n",
       "      <td>13.415091</td>\n",
       "      <td>Apartment</td>\n",
       "      <td>Private room</td>\n",
       "      <td>2</td>\n",
       "      <td>1.75</td>\n",
       "      <td>44.384615</td>\n",
       "      <td>2</td>\n",
       "      <td>1864.153846</td>\n",
       "    </tr>\n",
       "  </tbody>\n",
       "</table>\n",
       "</div>"
      ],
      "text/plain": [
       "     id  host_id   latitude  longitude property_type        room_type  \\\n",
       "0  2015     2217  52.534537  13.402557    Guesthouse  Entire home/apt   \n",
       "1  2695     2986  52.548513  13.404553     Apartment     Private room   \n",
       "2  3176     3718  52.534996  13.417579     Apartment  Entire home/apt   \n",
       "3  3309     4108  52.498855  13.349065     Apartment     Private room   \n",
       "4  7071    17391  52.543157  13.415091     Apartment     Private room   \n",
       "\n",
       "   accommodates  reviews_per_month  avg_price  min_nights_new  annual_income  \n",
       "0             3               3.76  81.900709               4   14781.440000  \n",
       "1             2               1.42  17.000000               2     579.360000  \n",
       "2             4               1.25  90.000000               5    6750.000000  \n",
       "3             2               0.39  27.131313               5     634.872727  \n",
       "4             2               1.75  44.384615               2    1864.153846  "
      ]
     },
     "execution_count": 21,
     "metadata": {},
     "output_type": "execute_result"
    }
   ],
   "source": [
    "problem_1 = p1_df.fillna(0).drop(['price','minimum_nights','listing_id'], axis=1)\n",
    "problem_1['annual_income']= problem_1.avg_price * problem_1.min_nights_new * problem_1.reviews_per_month * 12\n",
    "problem_1.head()"
   ]
  },
  {
   "cell_type": "markdown",
   "metadata": {},
   "source": [
    "#### Annual income by host"
   ]
  },
  {
   "cell_type": "code",
   "execution_count": 22,
   "metadata": {},
   "outputs": [
    {
     "data": {
      "text/html": [
       "<div>\n",
       "<style scoped>\n",
       "    .dataframe tbody tr th:only-of-type {\n",
       "        vertical-align: middle;\n",
       "    }\n",
       "\n",
       "    .dataframe tbody tr th {\n",
       "        vertical-align: top;\n",
       "    }\n",
       "\n",
       "    .dataframe thead th {\n",
       "        text-align: right;\n",
       "    }\n",
       "</style>\n",
       "<table border=\"1\" class=\"dataframe\">\n",
       "  <thead>\n",
       "    <tr style=\"text-align: right;\">\n",
       "      <th></th>\n",
       "      <th>host_id</th>\n",
       "      <th>annual_income_by_host</th>\n",
       "    </tr>\n",
       "  </thead>\n",
       "  <tbody>\n",
       "    <tr>\n",
       "      <th>52</th>\n",
       "      <td>102461</td>\n",
       "      <td>474784.601874</td>\n",
       "    </tr>\n",
       "    <tr>\n",
       "      <th>9120</th>\n",
       "      <td>28957697</td>\n",
       "      <td>417960.000000</td>\n",
       "    </tr>\n",
       "    <tr>\n",
       "      <th>13991</th>\n",
       "      <td>73720108</td>\n",
       "      <td>364800.000000</td>\n",
       "    </tr>\n",
       "    <tr>\n",
       "      <th>1693</th>\n",
       "      <td>3003519</td>\n",
       "      <td>273012.817322</td>\n",
       "    </tr>\n",
       "    <tr>\n",
       "      <th>17787</th>\n",
       "      <td>167067226</td>\n",
       "      <td>213282.377511</td>\n",
       "    </tr>\n",
       "  </tbody>\n",
       "</table>\n",
       "</div>"
      ],
      "text/plain": [
       "         host_id  annual_income_by_host\n",
       "52        102461          474784.601874\n",
       "9120    28957697          417960.000000\n",
       "13991   73720108          364800.000000\n",
       "1693     3003519          273012.817322\n",
       "17787  167067226          213282.377511"
      ]
     },
     "execution_count": 22,
     "metadata": {},
     "output_type": "execute_result"
    }
   ],
   "source": [
    "income_by_host = problem_1.groupby('host_id').agg({'annual_income':'sum'}).reset_index()\\\n",
    "                                        .rename(columns={'annual_income':'annual_income_by_host'})\n",
    "income_by_host.sort_values(by=['annual_income_by_host'],ascending=False).head()"
   ]
  },
  {
   "cell_type": "markdown",
   "metadata": {},
   "source": [
    "#### Annual income distribution"
   ]
  },
  {
   "cell_type": "code",
   "execution_count": 23,
   "metadata": {},
   "outputs": [
    {
     "name": "stdout",
     "output_type": "stream",
     "text": [
      "count     19180.000000\n",
      "mean       2102.650773\n",
      "std        8224.372859\n",
      "min           0.000000\n",
      "25%          72.192000\n",
      "50%         518.400000\n",
      "75%        1892.293636\n",
      "max      474784.601874\n",
      "Name: annual_income_by_host, dtype: float64\n"
     ]
    },
    {
     "data": {
      "image/png": "[encoded data removed]",
      "text/plain": [
       "<Figure size 432x288 with 1 Axes>"
      ]
     },
     "metadata": {},
     "output_type": "display_data"
    }
   ],
   "source": [
    "print(income_by_host.annual_income_by_host.describe())\n",
    "\n",
    "income_by_host.annual_income_by_host.hist(bins=200)\n",
    "plt.title('Annual income distribution by host')\n",
    "plt.xlabel('annual income')\n",
    "plt.yscale('log')\n",
    "plt.show()"
   ]
  },
  {
   "cell_type": "code",
   "execution_count": 24,
   "metadata": {},
   "outputs": [
    {
     "data": {
      "text/html": [
       "<div>\n",
       "<style scoped>\n",
       "    .dataframe tbody tr th:only-of-type {\n",
       "        vertical-align: middle;\n",
       "    }\n",
       "\n",
       "    .dataframe tbody tr th {\n",
       "        vertical-align: top;\n",
       "    }\n",
       "\n",
       "    .dataframe thead th {\n",
       "        text-align: right;\n",
       "    }\n",
       "</style>\n",
       "<table border=\"1\" class=\"dataframe\">\n",
       "  <thead>\n",
       "    <tr style=\"text-align: right;\">\n",
       "      <th></th>\n",
       "      <th>id</th>\n",
       "      <th>host_id</th>\n",
       "      <th>latitude</th>\n",
       "      <th>longitude</th>\n",
       "      <th>property_type</th>\n",
       "      <th>room_type</th>\n",
       "      <th>accommodates</th>\n",
       "      <th>reviews_per_month</th>\n",
       "      <th>avg_price</th>\n",
       "      <th>min_nights_new</th>\n",
       "      <th>annual_income</th>\n",
       "      <th>annual_income_by_host</th>\n",
       "    </tr>\n",
       "  </thead>\n",
       "  <tbody>\n",
       "    <tr>\n",
       "      <th>0</th>\n",
       "      <td>2015</td>\n",
       "      <td>2217</td>\n",
       "      <td>52.534537</td>\n",
       "      <td>13.402557</td>\n",
       "      <td>Guesthouse</td>\n",
       "      <td>Entire home/apt</td>\n",
       "      <td>3</td>\n",
       "      <td>3.76</td>\n",
       "      <td>81.900709</td>\n",
       "      <td>4</td>\n",
       "      <td>14781.440000</td>\n",
       "      <td>41098.113370</td>\n",
       "    </tr>\n",
       "    <tr>\n",
       "      <th>1</th>\n",
       "      <td>2695</td>\n",
       "      <td>2986</td>\n",
       "      <td>52.548513</td>\n",
       "      <td>13.404553</td>\n",
       "      <td>Apartment</td>\n",
       "      <td>Private room</td>\n",
       "      <td>2</td>\n",
       "      <td>1.42</td>\n",
       "      <td>17.000000</td>\n",
       "      <td>2</td>\n",
       "      <td>579.360000</td>\n",
       "      <td>579.360000</td>\n",
       "    </tr>\n",
       "    <tr>\n",
       "      <th>2</th>\n",
       "      <td>3176</td>\n",
       "      <td>3718</td>\n",
       "      <td>52.534996</td>\n",
       "      <td>13.417579</td>\n",
       "      <td>Apartment</td>\n",
       "      <td>Entire home/apt</td>\n",
       "      <td>4</td>\n",
       "      <td>1.25</td>\n",
       "      <td>90.000000</td>\n",
       "      <td>5</td>\n",
       "      <td>6750.000000</td>\n",
       "      <td>6750.000000</td>\n",
       "    </tr>\n",
       "    <tr>\n",
       "      <th>3</th>\n",
       "      <td>3309</td>\n",
       "      <td>4108</td>\n",
       "      <td>52.498855</td>\n",
       "      <td>13.349065</td>\n",
       "      <td>Apartment</td>\n",
       "      <td>Private room</td>\n",
       "      <td>2</td>\n",
       "      <td>0.39</td>\n",
       "      <td>27.131313</td>\n",
       "      <td>5</td>\n",
       "      <td>634.872727</td>\n",
       "      <td>634.872727</td>\n",
       "    </tr>\n",
       "    <tr>\n",
       "      <th>4</th>\n",
       "      <td>7071</td>\n",
       "      <td>17391</td>\n",
       "      <td>52.543157</td>\n",
       "      <td>13.415091</td>\n",
       "      <td>Apartment</td>\n",
       "      <td>Private room</td>\n",
       "      <td>2</td>\n",
       "      <td>1.75</td>\n",
       "      <td>44.384615</td>\n",
       "      <td>2</td>\n",
       "      <td>1864.153846</td>\n",
       "      <td>1864.153846</td>\n",
       "    </tr>\n",
       "  </tbody>\n",
       "</table>\n",
       "</div>"
      ],
      "text/plain": [
       "     id  host_id   latitude  longitude property_type        room_type  \\\n",
       "0  2015     2217  52.534537  13.402557    Guesthouse  Entire home/apt   \n",
       "1  2695     2986  52.548513  13.404553     Apartment     Private room   \n",
       "2  3176     3718  52.534996  13.417579     Apartment  Entire home/apt   \n",
       "3  3309     4108  52.498855  13.349065     Apartment     Private room   \n",
       "4  7071    17391  52.543157  13.415091     Apartment     Private room   \n",
       "\n",
       "   accommodates  reviews_per_month  avg_price  min_nights_new  annual_income  \\\n",
       "0             3               3.76  81.900709               4   14781.440000   \n",
       "1             2               1.42  17.000000               2     579.360000   \n",
       "2             4               1.25  90.000000               5    6750.000000   \n",
       "3             2               0.39  27.131313               5     634.872727   \n",
       "4             2               1.75  44.384615               2    1864.153846   \n",
       "\n",
       "   annual_income_by_host  \n",
       "0           41098.113370  \n",
       "1             579.360000  \n",
       "2            6750.000000  \n",
       "3             634.872727  \n",
       "4            1864.153846  "
      ]
     },
     "execution_count": 24,
     "metadata": {},
     "output_type": "execute_result"
    }
   ],
   "source": [
    "problem_1a = pd.merge(problem_1, income_by_host, how='left', on='host_id')\n",
    "problem_1a.head()"
   ]
  },
  {
   "cell_type": "code",
   "execution_count": 25,
   "metadata": {},
   "outputs": [],
   "source": [
    "problem_1a.to_csv(\"problem1a.csv\", index=False) # save as csv for tableau visualisation "
   ]
  },
  {
   "cell_type": "markdown",
   "metadata": {},
   "source": [
    "### 1-2 Explain pricing and impact of seasonality in the context of Airbnb Berlin?\n"
   ]
  },
  {
   "cell_type": "markdown",
   "metadata": {},
   "source": [
    "* The availability has no huge difference between seasons.\n",
    "* However, the price shows seasonality: June to October show low price, and the price go up from November, it goes up to the highest in December which could be tripled than October."
   ]
  },
  {
   "cell_type": "code",
   "execution_count": 26,
   "metadata": {},
   "outputs": [
    {
     "data": {
      "text/plain": [
       "available\n",
       "f    6430639\n",
       "t    1800841\n",
       "Name: listing_id, dtype: int64"
      ]
     },
     "execution_count": 26,
     "metadata": {},
     "output_type": "execute_result"
    }
   ],
   "source": [
    "from datetime import datetime\n",
    "calendar['date'] = pd.to_datetime(calendar.date)\n",
    "calendar.price.fillna('-1', inplace=True) # NaN-> -1\n",
    "calendar['price'] = calendar.price.apply(lambda x: float(re.sub('[$,]', '', x))) # str -> numeric\n",
    "calendar.groupby('available')['listing_id'].count()"
   ]
  },
  {
   "cell_type": "code",
   "execution_count": 27,
   "metadata": {},
   "outputs": [],
   "source": [
    "calendar.to_csv('problem1b.csv')"
   ]
  },
  {
   "cell_type": "markdown",
   "metadata": {},
   "source": [
    "<img src=\"img/b1.png\" width=600, height=400>"
   ]
  },
  {
   "cell_type": "markdown",
   "metadata": {},
   "source": [
    "<img src=\"img/b2.png\" width=600, height=400>"
   ]
  },
  {
   "cell_type": "markdown",
   "metadata": {},
   "source": [
    "### 1-3 Some Berlin listings seems anomalous, can you structurally find these anomalies?"
   ]
  },
  {
   "cell_type": "markdown",
   "metadata": {},
   "source": [
    "Some listings show extremly high prices."
   ]
  },
  {
   "cell_type": "markdown",
   "metadata": {},
   "source": [
    "# 2. Rank the Berlin listings\n",
    "Design a normalized listing ranking system which would allow users seeking Airbnb services (or\n",
    "even Airbnb marketplace team) to get a comparative holistic view of the Berlin listings.\n",
    "For the ranking, please consider an holistic approach (it cannot be an univariate model). For\n",
    "example: you can consider host attributes, listing’s price, distance to important locations etc."
   ]
  },
  {
   "cell_type": "markdown",
   "metadata": {},
   "source": [
    "Location: tourist places(tourism type), restaurant, bus/train\n",
    "all three highest"
   ]
  },
  {
   "cell_type": "code",
   "execution_count": 30,
   "metadata": {},
   "outputs": [
    {
     "data": {
      "text/html": [
       "<div>\n",
       "<style scoped>\n",
       "    .dataframe tbody tr th:only-of-type {\n",
       "        vertical-align: middle;\n",
       "    }\n",
       "\n",
       "    .dataframe tbody tr th {\n",
       "        vertical-align: top;\n",
       "    }\n",
       "\n",
       "    .dataframe thead th {\n",
       "        text-align: right;\n",
       "    }\n",
       "</style>\n",
       "<table border=\"1\" class=\"dataframe\">\n",
       "  <thead>\n",
       "    <tr style=\"text-align: right;\">\n",
       "      <th></th>\n",
       "      <th>id</th>\n",
       "      <th>host_id</th>\n",
       "      <th>host_response_time</th>\n",
       "      <th>host_response_rate</th>\n",
       "      <th>host_is_superhost</th>\n",
       "      <th>host_has_profile_pic</th>\n",
       "      <th>host_identity_verified</th>\n",
       "      <th>number_of_reviews</th>\n",
       "      <th>review_scores_rating</th>\n",
       "      <th>review_scores_accuracy</th>\n",
       "      <th>review_scores_cleanliness</th>\n",
       "      <th>review_scores_checkin</th>\n",
       "      <th>review_scores_communication</th>\n",
       "      <th>review_scores_location</th>\n",
       "      <th>review_scores_value</th>\n",
       "    </tr>\n",
       "  </thead>\n",
       "  <tbody>\n",
       "    <tr>\n",
       "      <th>0</th>\n",
       "      <td>2015</td>\n",
       "      <td>2217</td>\n",
       "      <td>within an hour</td>\n",
       "      <td>96%</td>\n",
       "      <td>t</td>\n",
       "      <td>t</td>\n",
       "      <td>t</td>\n",
       "      <td>118</td>\n",
       "      <td>93.0</td>\n",
       "      <td>10.0</td>\n",
       "      <td>9.0</td>\n",
       "      <td>10.0</td>\n",
       "      <td>10.0</td>\n",
       "      <td>10.0</td>\n",
       "      <td>9.0</td>\n",
       "    </tr>\n",
       "    <tr>\n",
       "      <th>1</th>\n",
       "      <td>2695</td>\n",
       "      <td>2986</td>\n",
       "      <td>NaN</td>\n",
       "      <td>NaN</td>\n",
       "      <td>f</td>\n",
       "      <td>t</td>\n",
       "      <td>t</td>\n",
       "      <td>6</td>\n",
       "      <td>100.0</td>\n",
       "      <td>10.0</td>\n",
       "      <td>10.0</td>\n",
       "      <td>10.0</td>\n",
       "      <td>10.0</td>\n",
       "      <td>10.0</td>\n",
       "      <td>10.0</td>\n",
       "    </tr>\n",
       "    <tr>\n",
       "      <th>2</th>\n",
       "      <td>3176</td>\n",
       "      <td>3718</td>\n",
       "      <td>within a day</td>\n",
       "      <td>100%</td>\n",
       "      <td>f</td>\n",
       "      <td>t</td>\n",
       "      <td>t</td>\n",
       "      <td>143</td>\n",
       "      <td>92.0</td>\n",
       "      <td>9.0</td>\n",
       "      <td>9.0</td>\n",
       "      <td>9.0</td>\n",
       "      <td>9.0</td>\n",
       "      <td>10.0</td>\n",
       "      <td>9.0</td>\n",
       "    </tr>\n",
       "    <tr>\n",
       "      <th>3</th>\n",
       "      <td>3309</td>\n",
       "      <td>4108</td>\n",
       "      <td>NaN</td>\n",
       "      <td>NaN</td>\n",
       "      <td>f</td>\n",
       "      <td>t</td>\n",
       "      <td>t</td>\n",
       "      <td>25</td>\n",
       "      <td>88.0</td>\n",
       "      <td>9.0</td>\n",
       "      <td>9.0</td>\n",
       "      <td>9.0</td>\n",
       "      <td>10.0</td>\n",
       "      <td>9.0</td>\n",
       "      <td>9.0</td>\n",
       "    </tr>\n",
       "    <tr>\n",
       "      <th>4</th>\n",
       "      <td>7071</td>\n",
       "      <td>17391</td>\n",
       "      <td>within an hour</td>\n",
       "      <td>100%</td>\n",
       "      <td>t</td>\n",
       "      <td>t</td>\n",
       "      <td>t</td>\n",
       "      <td>197</td>\n",
       "      <td>96.0</td>\n",
       "      <td>10.0</td>\n",
       "      <td>10.0</td>\n",
       "      <td>10.0</td>\n",
       "      <td>10.0</td>\n",
       "      <td>10.0</td>\n",
       "      <td>9.0</td>\n",
       "    </tr>\n",
       "  </tbody>\n",
       "</table>\n",
       "</div>"
      ],
      "text/plain": [
       "     id  host_id host_response_time host_response_rate host_is_superhost  \\\n",
       "0  2015     2217     within an hour                96%                 t   \n",
       "1  2695     2986                NaN                NaN                 f   \n",
       "2  3176     3718       within a day               100%                 f   \n",
       "3  3309     4108                NaN                NaN                 f   \n",
       "4  7071    17391     within an hour               100%                 t   \n",
       "\n",
       "  host_has_profile_pic host_identity_verified  number_of_reviews  \\\n",
       "0                    t                      t                118   \n",
       "1                    t                      t                  6   \n",
       "2                    t                      t                143   \n",
       "3                    t                      t                 25   \n",
       "4                    t                      t                197   \n",
       "\n",
       "   review_scores_rating  review_scores_accuracy  review_scores_cleanliness  \\\n",
       "0                  93.0                    10.0                        9.0   \n",
       "1                 100.0                    10.0                       10.0   \n",
       "2                  92.0                     9.0                        9.0   \n",
       "3                  88.0                     9.0                        9.0   \n",
       "4                  96.0                    10.0                       10.0   \n",
       "\n",
       "   review_scores_checkin  review_scores_communication  review_scores_location  \\\n",
       "0                   10.0                         10.0                    10.0   \n",
       "1                   10.0                         10.0                    10.0   \n",
       "2                    9.0                          9.0                    10.0   \n",
       "3                    9.0                         10.0                     9.0   \n",
       "4                   10.0                         10.0                    10.0   \n",
       "\n",
       "   review_scores_value  \n",
       "0                  9.0  \n",
       "1                 10.0  \n",
       "2                  9.0  \n",
       "3                  9.0  \n",
       "4                  9.0  "
      ]
     },
     "execution_count": 30,
     "metadata": {},
     "output_type": "execute_result"
    }
   ],
   "source": [
    "ranking_features = listings[['id','host_id','host_response_time', 'host_response_rate',\n",
    "                             'host_is_superhost','host_has_profile_pic', 'host_identity_verified',\n",
    "                                'number_of_reviews','review_scores_rating',\n",
    "                                'review_scores_accuracy', 'review_scores_cleanliness',\n",
    "                                'review_scores_checkin', 'review_scores_communication',\n",
    "                                'review_scores_location', 'review_scores_value']]\n",
    "ranking_features.head()"
   ]
  },
  {
   "cell_type": "code",
   "execution_count": 31,
   "metadata": {},
   "outputs": [
    {
     "name": "stdout",
     "output_type": "stream",
     "text": [
      "(22552, 15)\n"
     ]
    },
    {
     "data": {
      "text/plain": [
       "id                                 0\n",
       "host_id                            0\n",
       "host_response_time             12894\n",
       "host_response_rate             12895\n",
       "host_is_superhost                 26\n",
       "host_has_profile_pic              26\n",
       "host_identity_verified            26\n",
       "number_of_reviews                  0\n",
       "review_scores_rating            4389\n",
       "review_scores_accuracy          4414\n",
       "review_scores_cleanliness       4411\n",
       "review_scores_checkin           4432\n",
       "review_scores_communication     4418\n",
       "review_scores_location          4431\n",
       "review_scores_value             4435\n",
       "dtype: int64"
      ]
     },
     "execution_count": 31,
     "metadata": {},
     "output_type": "execute_result"
    }
   ],
   "source": [
    "print(ranking_features.shape)\n",
    "ranking_features.isna().sum()"
   ]
  },
  {
   "cell_type": "markdown",
   "metadata": {},
   "source": [
    "## 3. London, United Kingdom vs Paris, France"
   ]
  },
  {
   "cell_type": "markdown",
   "metadata": {},
   "source": [
    "* Assume the Airbnb guests might be tourists, estimate the number of Airbnb guests stayed in the city.\n",
    "* Use number of guests(guests_included) for each listing and number of bookings(estimated by using reviews_per_month) to calculate the number of guests.\n",
    "* The result below shows the estimated annual number of Airbnb guests  \n",
    " * Estimated number of guests of Airbnb in London:  1356831.12\n",
    " * Estimated number of guests of Airbnb in Paris:  1032772.2\n",
    "* the number of Airbnb guests in London is 1.31 times than the one in Paris while the number of Tourists in London is 1.11 times than the tourists in Paris.\n",
    " * Airbnb guests - London > Paris:  1.31\n",
    " * Tourists - London > Paris:  1.11\n",
    "* However, in the Airbnb data, more listings in London than Paris, it is approximately 1.35 times.\n",
    "\n",
    "* Therefore, although the Airbnb data looks related to the number of tourists in these two cities, we could not make assumption with these small part of the dataset. "
   ]
  },
  {
   "cell_type": "code",
   "execution_count": 32,
   "metadata": {},
   "outputs": [
    {
     "name": "stderr",
     "output_type": "stream",
     "text": [
      "/anaconda3/lib/python3.6/site-packages/IPython/core/interactiveshell.py:2728: DtypeWarning: Columns (61,62,94) have mixed types. Specify dtype option on import or set low_memory=False.\n",
      "  interactivity=interactivity, compiler=compiler, result=result)\n",
      "/anaconda3/lib/python3.6/site-packages/IPython/core/interactiveshell.py:2728: DtypeWarning: Columns (43,61,62) have mixed types. Specify dtype option on import or set low_memory=False.\n",
      "  interactivity=interactivity, compiler=compiler, result=result)\n"
     ]
    }
   ],
   "source": [
    "london = pd.read_csv('Comparative Market Analysis Dataset/London 05 June 2019.csv')\n",
    "paris = pd.read_csv('Comparative Market Analysis Dataset/Paris 05 June 2019.csv')"
   ]
  },
  {
   "cell_type": "code",
   "execution_count": 33,
   "metadata": {},
   "outputs": [
    {
     "name": "stdout",
     "output_type": "stream",
     "text": [
      "number of listings in London:  82029\n",
      "number of listings in Paris:  60822\n"
     ]
    }
   ],
   "source": [
    "print('number of listings in London: ',london.shape[0])\n",
    "print('number of listings in Paris: ', paris.shape[0])"
   ]
  },
  {
   "cell_type": "code",
   "execution_count": 34,
   "metadata": {},
   "outputs": [
    {
     "data": {
      "text/plain": [
       "(Index(['id', 'listing_url', 'scrape_id', 'last_scraped', 'name', 'summary',\n",
       "        'space', 'description', 'experiences_offered', 'neighborhood_overview',\n",
       "        'notes', 'transit', 'access', 'interaction', 'house_rules',\n",
       "        'thumbnail_url', 'medium_url', 'picture_url', 'xl_picture_url',\n",
       "        'host_id', 'host_url', 'host_name', 'host_since', 'host_location',\n",
       "        'host_about', 'host_response_time', 'host_response_rate',\n",
       "        'host_acceptance_rate', 'host_is_superhost', 'host_thumbnail_url',\n",
       "        'host_picture_url', 'host_neighbourhood', 'host_listings_count',\n",
       "        'host_total_listings_count', 'host_verifications',\n",
       "        'host_has_profile_pic', 'host_identity_verified', 'street',\n",
       "        'neighbourhood', 'neighbourhood_cleansed',\n",
       "        'neighbourhood_group_cleansed', 'city', 'state', 'zipcode', 'market',\n",
       "        'smart_location', 'country_code', 'country', 'latitude', 'longitude'],\n",
       "       dtype='object'),\n",
       " Index(['is_location_exact', 'property_type', 'room_type', 'accommodates',\n",
       "        'bathrooms', 'bedrooms', 'beds', 'bed_type', 'amenities', 'square_feet',\n",
       "        'price', 'weekly_price', 'monthly_price', 'security_deposit',\n",
       "        'cleaning_fee', 'guests_included', 'extra_people', 'minimum_nights',\n",
       "        'maximum_nights', 'minimum_minimum_nights', 'maximum_minimum_nights',\n",
       "        'minimum_maximum_nights', 'maximum_maximum_nights',\n",
       "        'minimum_nights_avg_ntm', 'maximum_nights_avg_ntm', 'calendar_updated',\n",
       "        'has_availability', 'availability_30', 'availability_60',\n",
       "        'availability_90', 'availability_365', 'calendar_last_scraped',\n",
       "        'number_of_reviews', 'number_of_reviews_ltm', 'first_review',\n",
       "        'last_review', 'review_scores_rating', 'review_scores_accuracy',\n",
       "        'review_scores_cleanliness', 'review_scores_checkin',\n",
       "        'review_scores_communication', 'review_scores_location',\n",
       "        'review_scores_value', 'requires_license', 'license',\n",
       "        'jurisdiction_names', 'instant_bookable', 'is_business_travel_ready',\n",
       "        'cancellation_policy', 'require_guest_profile_picture',\n",
       "        'require_guest_phone_verification', 'calculated_host_listings_count',\n",
       "        'calculated_host_listings_count_entire_homes',\n",
       "        'calculated_host_listings_count_private_rooms',\n",
       "        'calculated_host_listings_count_shared_rooms', 'reviews_per_month'],\n",
       "       dtype='object'))"
      ]
     },
     "execution_count": 34,
     "metadata": {},
     "output_type": "execute_result"
    }
   ],
   "source": [
    "paris.columns[0:50], paris.columns[50:107]"
   ]
  },
  {
   "cell_type": "code",
   "execution_count": 35,
   "metadata": {},
   "outputs": [
    {
     "name": "stdout",
     "output_type": "stream",
     "text": [
      "Estimated number of guests of Airbnb in London:  1356831.12\n",
      "Estimated number of guests of Airbnb in Paris:  1032772.2\n",
      "Airbnb guests - London > Paris:  1.31\n",
      "Tourists - London > Paris:  1.11\n",
      "However, more Airbnb listings in London than Paris:  1.35\n"
     ]
    },
    {
     "name": "stderr",
     "output_type": "stream",
     "text": [
      "/anaconda3/lib/python3.6/site-packages/ipykernel_launcher.py:2: SettingWithCopyWarning: \n",
      "A value is trying to be set on a copy of a slice from a DataFrame.\n",
      "Try using .loc[row_indexer,col_indexer] = value instead\n",
      "\n",
      "See the caveats in the documentation: http://pandas.pydata.org/pandas-docs/stable/indexing.html#indexing-view-versus-copy\n",
      "  \n",
      "/anaconda3/lib/python3.6/site-packages/ipykernel_launcher.py:5: SettingWithCopyWarning: \n",
      "A value is trying to be set on a copy of a slice from a DataFrame.\n",
      "Try using .loc[row_indexer,col_indexer] = value instead\n",
      "\n",
      "See the caveats in the documentation: http://pandas.pydata.org/pandas-docs/stable/indexing.html#indexing-view-versus-copy\n",
      "  \"\"\"\n"
     ]
    }
   ],
   "source": [
    "london_guests = london[['guests_included','reviews_per_month']]\n",
    "london_guests['n_guests'] = london.guests_included * london.reviews_per_month *12\n",
    "\n",
    "paris_guests = paris[['guests_included','reviews_per_month']]\n",
    "paris_guests['n_guests'] = paris.guests_included * paris.reviews_per_month *12\n",
    "\n",
    "print('Estimated number of guests of Airbnb in London: ', round(london_guests.n_guests.sum(), 2))\n",
    "print('Estimated number of guests of Airbnb in Paris: ', round(paris_guests.n_guests.sum(), 2))\n",
    "\n",
    "print('Airbnb guests - London > Paris: ', round(london_guests.n_guests.sum()/paris_guests.n_guests.sum(), 2))\n",
    "print('Tourists - London > Paris: ', round(20000000/18000000, 2))\n",
    "print('However, more Airbnb listings in London than Paris: ', round(london.shape[0]/paris.shape[0], 2))"
   ]
  },
  {
   "cell_type": "markdown",
   "metadata": {},
   "source": [
    "###  Inferential Statistics: \n",
    "According to expatistan [3], London is 20% more expensive than\n",
    "France. What do you think from the Airbnb dataset (Careful with the assumptions, make\n",
    "sure to validate assumptions before performing hypothesis testing)."
   ]
  },
  {
   "cell_type": "markdown",
   "metadata": {},
   "source": [
    "#### Assumption: \n",
    "Price on the Airbnb could reflect accomodation price in the city. We could compare the prices of the listings in these two cities.\n",
    "#### Show Distribution of the price in each city.\n",
    "#### Result\n",
    "Based on the result, the prices in London are more spread out than Paris which means London have many lower price accomodation, at the same time it has some much higher price accomodation as well while the prices in Paris are more normal distributed. \n",
    "\n",
    "Therefore, it could not give a conclusion that London is more expensive than Paris."
   ]
  },
  {
   "cell_type": "code",
   "execution_count": 36,
   "metadata": {},
   "outputs": [],
   "source": [
    "london_price = london.price.apply(lambda x: float(re.sub('[$,]', '', x))) # str -> numeric\n",
    "paris_price = paris.price.apply(lambda x: float(re.sub('[$,]', '', x))) # str -> numeric"
   ]
  },
  {
   "cell_type": "code",
   "execution_count": 37,
   "metadata": {},
   "outputs": [
    {
     "name": "stdout",
     "output_type": "stream",
     "text": [
      "London prices: \n",
      " count    82029.000000\n",
      "mean       118.943715\n",
      "std        214.371348\n",
      "min          0.000000\n",
      "25%         45.000000\n",
      "50%         80.000000\n",
      "75%        135.000000\n",
      "max      13700.000000\n",
      "Name: price, dtype: float64\n",
      "\n",
      "Paris prices: \n",
      " count    60822.000000\n",
      "mean       116.982884\n",
      "std        164.186807\n",
      "min          0.000000\n",
      "25%         60.000000\n",
      "50%         80.000000\n",
      "75%        120.000000\n",
      "max       9379.000000\n",
      "Name: price, dtype: float64\n"
     ]
    }
   ],
   "source": [
    "print('London prices: \\n',london_price.describe())\n",
    "print('\\nParis prices: \\n',paris_price.describe())"
   ]
  },
  {
   "cell_type": "code",
   "execution_count": 38,
   "metadata": {},
   "outputs": [
    {
     "data": {
      "text/plain": [
       "<matplotlib.axes._subplots.AxesSubplot at 0x14470f668>"
      ]
     },
     "execution_count": 38,
     "metadata": {},
     "output_type": "execute_result"
    },
    {
     "data": {
      "image/png": "[encoded data removed]",
      "text/plain": [
       "<Figure size 432x288 with 1 Axes>"
      ]
     },
     "metadata": {},
     "output_type": "display_data"
    }
   ],
   "source": [
    "sns.distplot(london_price,hist = False, kde = True, \n",
    "             kde_kws = {'shade': True, 'linewidth': 2}, label = 'London')\n",
    "sns.distplot(paris_price, hist = False, kde = True,\n",
    "             kde_kws = {'shade': True, 'linewidth': 2}, label = 'Paris')"
   ]
  },
  {
   "cell_type": "code",
   "execution_count": 39,
   "metadata": {},
   "outputs": [
    {
     "data": {
      "text/plain": [
       "<matplotlib.axes._subplots.AxesSubplot at 0x1a6617a0b8>"
      ]
     },
     "execution_count": 39,
     "metadata": {},
     "output_type": "execute_result"
    },
    {
     "data": {
      "image/png": "[encoded data removed]",
      "text/plain": [
       "<Figure size 432x288 with 1 Axes>"
      ]
     },
     "metadata": {},
     "output_type": "display_data"
    }
   ],
   "source": [
    "sns.distplot(london_price[london_price<=135],hist = False, kde = True, \n",
    "             kde_kws = {'shade': True, 'linewidth': 2}, label = 'London') \\\n",
    "            .set_title('Price distribution in London vs Paris')\n",
    "sns.distplot(paris_price[paris_price<=120], hist = False, kde = True,\n",
    "             kde_kws = {'shade': True, 'linewidth': 2}, label = 'Paris')\n"
   ]
  },
  {
   "cell_type": "code",
   "execution_count": 40,
   "metadata": {},
   "outputs": [
    {
     "data": {
      "text/plain": [
       "([<matplotlib.axis.XTick at 0x1a66257d30>,\n",
       "  <matplotlib.axis.XTick at 0x11f8130f0>],\n",
       " <a list of 2 Text xticklabel objects>)"
      ]
     },
     "execution_count": 40,
     "metadata": {},
     "output_type": "execute_result"
    },
    {
     "data": {
      "image/png": "[encoded data removed]",
      "text/plain": [
       "<Figure size 432x288 with 1 Axes>"
      ]
     },
     "metadata": {},
     "output_type": "display_data"
    }
   ],
   "source": [
    "sns.boxplot(data=[london_price[london_price<=135], paris_price[paris_price<=120]], width=0.5)\\\n",
    "        .set_title('Prices in London vs Paris')\n",
    "plt.xticks([0,1], ['London', 'Paris'])"
   ]
  },
  {
   "cell_type": "markdown",
   "metadata": {},
   "source": [
    "### (c) Optional: Any other comparative study you want to perform?"
   ]
  },
  {
   "cell_type": "markdown",
   "metadata": {},
   "source": [
    "#### Compare the property type and room type of the listings in London and Paris"
   ]
  },
  {
   "cell_type": "markdown",
   "metadata": {},
   "source": [
    "##### Property type"
   ]
  },
  {
   "cell_type": "markdown",
   "metadata": {},
   "source": [
    "<img src=\"img/3-1.png\" width=600, height=400>"
   ]
  },
  {
   "cell_type": "markdown",
   "metadata": {},
   "source": [
    "##### Room type"
   ]
  },
  {
   "cell_type": "markdown",
   "metadata": {},
   "source": [
    "<img src=\"img/3-2.png\" width=600, height=400>"
   ]
  },
  {
   "cell_type": "code",
   "execution_count": 43,
   "metadata": {},
   "outputs": [
    {
     "data": {
      "text/html": [
       "<div>\n",
       "<style scoped>\n",
       "    .dataframe tbody tr th:only-of-type {\n",
       "        vertical-align: middle;\n",
       "    }\n",
       "\n",
       "    .dataframe tbody tr th {\n",
       "        vertical-align: top;\n",
       "    }\n",
       "\n",
       "    .dataframe thead th {\n",
       "        text-align: right;\n",
       "    }\n",
       "</style>\n",
       "<table border=\"1\" class=\"dataframe\">\n",
       "  <thead>\n",
       "    <tr style=\"text-align: right;\">\n",
       "      <th></th>\n",
       "      <th>property_type</th>\n",
       "      <th>London</th>\n",
       "      <th>London%</th>\n",
       "      <th>Paris</th>\n",
       "      <th>Paris%</th>\n",
       "    </tr>\n",
       "  </thead>\n",
       "  <tbody>\n",
       "    <tr>\n",
       "      <th>0</th>\n",
       "      <td>Apartment</td>\n",
       "      <td>55523.0</td>\n",
       "      <td>67.6870</td>\n",
       "      <td>54650.0</td>\n",
       "      <td>89.8524</td>\n",
       "    </tr>\n",
       "    <tr>\n",
       "      <th>1</th>\n",
       "      <td>House</td>\n",
       "      <td>16868.0</td>\n",
       "      <td>20.5635</td>\n",
       "      <td>466.0</td>\n",
       "      <td>0.7662</td>\n",
       "    </tr>\n",
       "    <tr>\n",
       "      <th>2</th>\n",
       "      <td>Townhouse</td>\n",
       "      <td>3009.0</td>\n",
       "      <td>3.6682</td>\n",
       "      <td>245.0</td>\n",
       "      <td>0.4028</td>\n",
       "    </tr>\n",
       "    <tr>\n",
       "      <th>3</th>\n",
       "      <td>Serviced apartment</td>\n",
       "      <td>2135.0</td>\n",
       "      <td>2.6027</td>\n",
       "      <td>489.0</td>\n",
       "      <td>0.8040</td>\n",
       "    </tr>\n",
       "    <tr>\n",
       "      <th>4</th>\n",
       "      <td>Bed and breakfast</td>\n",
       "      <td>900.0</td>\n",
       "      <td>1.0972</td>\n",
       "      <td>288.0</td>\n",
       "      <td>0.4735</td>\n",
       "    </tr>\n",
       "    <tr>\n",
       "      <th>5</th>\n",
       "      <td>Condominium</td>\n",
       "      <td>898.0</td>\n",
       "      <td>1.0947</td>\n",
       "      <td>1726.0</td>\n",
       "      <td>2.8378</td>\n",
       "    </tr>\n",
       "    <tr>\n",
       "      <th>6</th>\n",
       "      <td>Loft</td>\n",
       "      <td>719.0</td>\n",
       "      <td>0.8765</td>\n",
       "      <td>1192.0</td>\n",
       "      <td>1.9598</td>\n",
       "    </tr>\n",
       "    <tr>\n",
       "      <th>7</th>\n",
       "      <td>Guest suite</td>\n",
       "      <td>351.0</td>\n",
       "      <td>0.4279</td>\n",
       "      <td>42.0</td>\n",
       "      <td>0.0691</td>\n",
       "    </tr>\n",
       "    <tr>\n",
       "      <th>8</th>\n",
       "      <td>Guesthouse</td>\n",
       "      <td>269.0</td>\n",
       "      <td>0.3279</td>\n",
       "      <td>102.0</td>\n",
       "      <td>0.1677</td>\n",
       "    </tr>\n",
       "    <tr>\n",
       "      <th>9</th>\n",
       "      <td>Hostel</td>\n",
       "      <td>232.0</td>\n",
       "      <td>0.2828</td>\n",
       "      <td>57.0</td>\n",
       "      <td>0.0937</td>\n",
       "    </tr>\n",
       "  </tbody>\n",
       "</table>\n",
       "</div>"
      ],
      "text/plain": [
       "        property_type   London  London%    Paris   Paris%\n",
       "0           Apartment  55523.0  67.6870  54650.0  89.8524\n",
       "1               House  16868.0  20.5635    466.0   0.7662\n",
       "2           Townhouse   3009.0   3.6682    245.0   0.4028\n",
       "3  Serviced apartment   2135.0   2.6027    489.0   0.8040\n",
       "4   Bed and breakfast    900.0   1.0972    288.0   0.4735\n",
       "5         Condominium    898.0   1.0947   1726.0   2.8378\n",
       "6                Loft    719.0   0.8765   1192.0   1.9598\n",
       "7         Guest suite    351.0   0.4279     42.0   0.0691\n",
       "8          Guesthouse    269.0   0.3279    102.0   0.1677\n",
       "9              Hostel    232.0   0.2828     57.0   0.0937"
      ]
     },
     "execution_count": 43,
     "metadata": {},
     "output_type": "execute_result"
    }
   ],
   "source": [
    "# London\n",
    "london_property_type = london.property_type.value_counts().reset_index()\\\n",
    "                        .rename(columns={'property_type':'London','index':'property_type'})\n",
    "london_property_type['London%'] = round(london_property_type.London/london.shape[0]*100,4)\n",
    "# Paris\n",
    "paris_property_type = paris.property_type.value_counts().reset_index()\\\n",
    "                        .rename(columns={'property_type':'Paris','index':'property_type'})\n",
    "paris_property_type['Paris%'] = round(paris_property_type.Paris/paris.shape[0]*100, 4)\n",
    "# Merge\n",
    "property_type = pd.merge(london_property_type, paris_property_type, how='outer', on='property_type')\n",
    "property_type.head(10)"
   ]
  },
  {
   "cell_type": "code",
   "execution_count": 44,
   "metadata": {},
   "outputs": [],
   "source": [
    "property_type.to_csv('problem3c.csv', index=False)"
   ]
  },
  {
   "cell_type": "code",
   "execution_count": 45,
   "metadata": {},
   "outputs": [
    {
     "data": {
      "text/html": [
       "<div>\n",
       "<style scoped>\n",
       "    .dataframe tbody tr th:only-of-type {\n",
       "        vertical-align: middle;\n",
       "    }\n",
       "\n",
       "    .dataframe tbody tr th {\n",
       "        vertical-align: top;\n",
       "    }\n",
       "\n",
       "    .dataframe thead th {\n",
       "        text-align: right;\n",
       "    }\n",
       "</style>\n",
       "<table border=\"1\" class=\"dataframe\">\n",
       "  <thead>\n",
       "    <tr style=\"text-align: right;\">\n",
       "      <th></th>\n",
       "      <th>room_type</th>\n",
       "      <th>London</th>\n",
       "      <th>London%</th>\n",
       "      <th>Paris</th>\n",
       "      <th>Paris%</th>\n",
       "    </tr>\n",
       "  </thead>\n",
       "  <tbody>\n",
       "    <tr>\n",
       "      <th>0</th>\n",
       "      <td>Entire home/apt</td>\n",
       "      <td>45936</td>\n",
       "      <td>55.9997</td>\n",
       "      <td>52571</td>\n",
       "      <td>86.4342</td>\n",
       "    </tr>\n",
       "    <tr>\n",
       "      <th>1</th>\n",
       "      <td>Private room</td>\n",
       "      <td>35326</td>\n",
       "      <td>43.0653</td>\n",
       "      <td>7787</td>\n",
       "      <td>12.8029</td>\n",
       "    </tr>\n",
       "    <tr>\n",
       "      <th>2</th>\n",
       "      <td>Shared room</td>\n",
       "      <td>767</td>\n",
       "      <td>0.9350</td>\n",
       "      <td>464</td>\n",
       "      <td>0.7629</td>\n",
       "    </tr>\n",
       "  </tbody>\n",
       "</table>\n",
       "</div>"
      ],
      "text/plain": [
       "         room_type  London  London%  Paris   Paris%\n",
       "0  Entire home/apt   45936  55.9997  52571  86.4342\n",
       "1     Private room   35326  43.0653   7787  12.8029\n",
       "2      Shared room     767   0.9350    464   0.7629"
      ]
     },
     "execution_count": 45,
     "metadata": {},
     "output_type": "execute_result"
    }
   ],
   "source": [
    "# London\n",
    "london_room_type = london.room_type.value_counts().reset_index()\\\n",
    "                        .rename(columns={'room_type':'London','index':'room_type'})\n",
    "london_room_type['London%'] = round(london_room_type.London/london.shape[0]*100,4)\n",
    "# Paris\n",
    "paris_room_type = paris.room_type.value_counts().reset_index()\\\n",
    "                        .rename(columns={'room_type':'Paris','index':'room_type'})\n",
    "paris_room_type['Paris%'] = round(paris_room_type.Paris/paris.shape[0]*100, 4)\n",
    "# Merge\n",
    "room_type = pd.merge(london_room_type, paris_room_type, how='outer', on='room_type')\n",
    "room_type.head(10)"
   ]
  },
  {
   "cell_type": "code",
   "execution_count": 46,
   "metadata": {},
   "outputs": [],
   "source": [
    "room_type.to_csv('problem3c_2.csv', index=False)"
   ]
  },
  {
   "cell_type": "markdown",
   "metadata": {},
   "source": []
  }
 ],
 "metadata": {
  "kernelspec": {
   "display_name": "Python 3",
   "language": "python",
   "name": "python3"
  },
  "language_info": {
   "codemirror_mode": {
    "name": "ipython",
    "version": 3
   },
   "file_extension": ".py",
   "mimetype": "text/x-python",
   "name": "python",
   "nbconvert_exporter": "python",
   "pygments_lexer": "ipython3",
   "version": "3.7.4"
  }
 },
 "nbformat": 4,
 "nbformat_minor": 2
}
